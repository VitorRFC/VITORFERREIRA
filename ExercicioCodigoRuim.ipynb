{
  "nbformat": 4,
  "nbformat_minor": 0,
  "metadata": {
    "colab": {
      "name": "ExercicioCodigoRuim.ipynb",
      "provenance": [],
      "authorship_tag": "ABX9TyOXTGq++HjANCFAp4a1rj1h",
      "include_colab_link": true
    },
    "kernelspec": {
      "name": "python3",
      "display_name": "Python 3"
    }
  },
  "cells": [
    {
      "cell_type": "markdown",
      "metadata": {
        "id": "view-in-github",
        "colab_type": "text"
      },
      "source": [
        "<a href=\"https://colab.research.google.com/github/VitorRFC/VITORFERREIRA/blob/master/ExercicioCodigoRuim.ipynb\" target=\"_parent\"><img src=\"https://colab.research.google.com/assets/colab-badge.svg\" alt=\"Open In Colab\"/></a>"
      ]
    },
    {
      "cell_type": "code",
      "metadata": {
        "id": "uMuBkfh5UZ_o",
        "colab_type": "code",
        "colab": {}
      },
      "source": [
        "import random\n",
        "\n",
        "lista = [7,3,1,4,5]\n",
        "listaEmbaralhada = lista.copy ()\n",
        "lista_ordenada = [7,5,4,3,1]\n",
        "\n",
        "random.shuffle(listaEmbaralhada)\n",
        "\n",
        "print(listaEmbaralhada)\n",
        "print(lista_ordenada)\n",
        "\n",
        "if listaE == lista_ordenada:\n",
        "  print(\"a lista está igual\")\n",
        "else:\n",
        "  print(\"a lista não está ordenada\")\n",
        "\n",
        "\n",
        "\n",
        "\n"
      ],
      "execution_count": null,
      "outputs": []
    }
  ]
}