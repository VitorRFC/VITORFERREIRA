{
  "nbformat": 4,
  "nbformat_minor": 0,
  "metadata": {
    "colab": {
      "name": "ExercicioCodigoRuim.ipynb",
      "provenance": [],
      "authorship_tag": "ABX9TyPRDz9S0HnpCaWc3wPaDI10",
      "include_colab_link": true
    },
    "kernelspec": {
      "name": "python3",
      "display_name": "Python 3"
    }
  },
  "cells": [
    {
      "cell_type": "markdown",
      "metadata": {
        "id": "view-in-github",
        "colab_type": "text"
      },
      "source": [
        "<a href=\"https://colab.research.google.com/github/VitorRFC/VITORFERREIRA/blob/master/ExercicioCodigoRuim.ipynb\" target=\"_parent\"><img src=\"https://colab.research.google.com/assets/colab-badge.svg\" alt=\"Open In Colab\"/></a>"
      ]
    },
    {
      "cell_type": "code",
      "metadata": {
        "id": "uMuBkfh5UZ_o",
        "colab_type": "code",
        "colab": {
          "base_uri": "https://localhost:8080/",
          "height": 68
        },
        "outputId": "36063149-b9b2-4b45-9dd2-12d7789f6f7c"
      },
      "source": [
        "import random\n",
        "\n",
        "lista = [7,3,1,4,5]\n",
        "listaE = lista.copy ()\n",
        "lista_ordenada = [1,3,4,5,7]\n",
        "\n",
        "random.shuffle(listaE)\n",
        "\n",
        "print(listaE)\n",
        "print(lista_ordenada)\n",
        "\n",
        "if listaE == lista_ordenada:\n",
        "  print(\"a lista está igual\")\n",
        "else:\n",
        "  print(\"a lista não está ordenada\")\n",
        "\n",
        "\n",
        "\n",
        "\n"
      ],
      "execution_count": 42,
      "outputs": [
        {
          "output_type": "stream",
          "text": [
            "[3, 1, 7, 4, 5]\n",
            "[1, 3, 4, 5, 7]\n",
            "a lista não está ordenada\n"
          ],
          "name": "stdout"
        }
      ]
    }
  ]
}